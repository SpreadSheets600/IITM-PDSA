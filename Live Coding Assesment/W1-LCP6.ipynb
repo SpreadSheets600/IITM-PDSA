{
 "cells": [
  {
   "cell_type": "markdown",
   "metadata": {},
   "source": [
    "### Question 6\n",
    "Write a Python function histogram(1) that takes as input a list of integers with repetitions and returns a list of pairs as follows :\n",
    "1. For each number n that appears in 1, there should be exactly one pair (n, r) in the list returned by the function, where r is the number of repetitions of n in 1.\n",
    "\n",
    "2. The final list should be sorted in ascending order by r, the number of repetitions. For numbers that occur with the same number of repetitions, arrange the pairs in ascending order of the value of the number.\n"
   ]
  },
  {
   "cell_type": "code",
   "execution_count": null,
   "metadata": {
    "vscode": {
     "languageId": "markdown"
    }
   },
   "outputs": [],
   "source": [
    "from collections import Counter\n",
    "\n",
    "def histogram(lst):\n",
    "    count = Counter(lst)\n",
    "    return sorted(count.items(), key=lambda x: (x[1], x[0]))\n"
   ]
  },
  {
   "cell_type": "markdown",
   "metadata": {},
   "source": [
    "### Explaination\n",
    "\n",
    "This Python code defines a function `histogram` that takes a list `lst` as input and returns a sorted list of tuples representing the frequency of each element in the list. \n",
    "\n",
    "### How It Works :\n",
    "\n",
    "1. `Counter(lst)`: Creates a dictionary-like object where keys are elements from `lst` and values are their counts.\n",
    "\n",
    "2. `sorted(count.items(), key=lambda x: (x[1], x[0]))`: Sorts the items first by frequency (ascending) and then by the element value (ascending).\n",
    "\n",
    "The result is a list of tuples, each containing an element and its frequency, sorted by frequency and then by element value."
   ]
  }
 ],
 "metadata": {
  "language_info": {
   "name": "python"
  }
 },
 "nbformat": 4,
 "nbformat_minor": 2
}
