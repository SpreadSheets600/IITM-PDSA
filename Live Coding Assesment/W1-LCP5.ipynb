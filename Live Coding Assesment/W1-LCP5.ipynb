{
 "cells": [
  {
   "cell_type": "markdown",
   "metadata": {},
   "source": [
    "### Question 5\n",
    "Write a Python function sumsquare(1) that takes a nonempty list of integers as input and returns a list [odd, even] , where odd is the sum of squares all the odd numbers in 1 and even is the sum of squares of all the even numbers in 1."
   ]
  },
  {
   "cell_type": "code",
   "execution_count": null,
   "metadata": {},
   "outputs": [],
   "source": [
    "def sumsquare(lst):\n",
    "    odd_sum = sum(x**2 for x in lst if x % 2 != 0)\n",
    "    even_sum = sum(x**2 for x in lst if x % 2 == 0)\n",
    "    return [odd_sum, even_sum]\n",
    "\n",
    "L = eval(input())\n",
    "print(sumsquare(L))"
   ]
  },
  {
   "cell_type": "markdown",
   "metadata": {},
   "source": [
    "### Explanation\n",
    "\n",
    "This Python function `sumsquare` calculates the sum of squares of odd and even numbers in a given list separately. Here's a breakdown:\n",
    "\n",
    "### How It Works :\n",
    "\n",
    "1. **Function Definition**: `def sumsquare(lst):` defines a function named `sumsquare` that takes a list `lst` as an argument.\n",
    "\n",
    "2. **Odd Sum Calculation**: `odd_sum = sum(x**2 for x in lst if x % 2 != 0)` computes the sum of squares of all odd numbers in the list.\n",
    "\n",
    "3. **Even Sum Calculation**: `even_sum = sum(x**2 for x in lst if x % 2 == 0)` computes the sum of squares of all even numbers in the list.\n",
    "\n",
    "4. **Return Statement**: `return [odd_sum, even_sum]` returns a list containing the two sums: the first element is the sum of squares of odd numbers, and the second is the sum of squares of even numbers.\n",
    "\n",
    "The code then takes a list input from the user, evaluates it, and prints the result of the `sumsquare` function."
   ]
  }
 ],
 "metadata": {
  "language_info": {
   "name": "python"
  }
 },
 "nbformat": 4,
 "nbformat_minor": 2
}
