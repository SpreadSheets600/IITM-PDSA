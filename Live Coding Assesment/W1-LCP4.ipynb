{
 "cells": [
  {
   "cell_type": "markdown",
   "metadata": {},
   "source": [
    "### Question 4\n",
    "Write a function expanding(L) that takes a list of integer L as input and returns True if the absolute difference between each adjacent pair of elements strictly increases.\n"
   ]
  },
  {
   "cell_type": "code",
   "execution_count": null,
   "metadata": {},
   "outputs": [],
   "source": [
    "def expanding(L):\n",
    "    differences = [abs(L[i + 1] - L[i]) for i in range(len(L) - 1)]\n",
    "    return all(differences[i] < differences[i + 1] for i in range(len(differences) - 1))\n",
    "\n",
    "\n",
    "L = eval(input())\n",
    "print(expanding(L))"
   ]
  },
  {
   "cell_type": "markdown",
   "metadata": {},
   "source": [
    "### Explanation\n",
    "The expanding function checks if the absolute differences between consecutive elements in a list L are strictly increasing.\n",
    "\n",
    "### How It Works :\n",
    "1. **Calculate Differences**: It creates a list differences containing the absolute differences between each pair of consecutive elements in L.\n",
    "\n",
    "2. **Check Increasing Order**: It uses the all function to verify if each difference is less than the next one in the differences list.\n",
    "\n",
    "If all differences are in strictly increasing order, the function returns `True`; otherwise, it returns `False`.\n"
   ]
  }
 ],
 "metadata": {
  "language_info": {
   "name": "python"
  }
 },
 "nbformat": 4,
 "nbformat_minor": 2
}
