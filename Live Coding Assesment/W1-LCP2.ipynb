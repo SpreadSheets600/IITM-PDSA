{
 "cells": [
  {
   "cell_type": "markdown",
   "metadata": {},
   "source": [
    "### Question 2\n",
    "\n",
    "Write a function del_char(s,c) that takes strings s and c as input, where c has length 1 (i.e ., a single character), and returns the string obtained by deleting all occurrences of c in s . If c has length other than 1, the function should return s."
   ]
  },
  {
   "cell_type": "code",
   "execution_count": 1,
   "metadata": {},
   "outputs": [
    {
     "name": "stdout",
     "output_type": "stream",
     "text": [
      "anana\n"
     ]
    }
   ],
   "source": [
    "def del_char(s, c):\n",
    "    if len(c) != 1:\n",
    "        return s\n",
    "    return s.replace(c, '')\n",
    "\n",
    "s = input()\n",
    "c = input()\n",
    "print(del_char(s,c))"
   ]
  },
  {
   "cell_type": "markdown",
   "metadata": {},
   "source": [
    "#### Explaination:\n",
    "The `del_char` function removes all occurrences of a specified character c from the string s.\n",
    "\n",
    "#### How It Works :\n",
    "1. **Check if c is a single character**:\n",
    "   - If the length of c is not equal to 1, the function returns the original string s unchanged.\n",
    "\n",
    "2. **Replace occurrences of c in s**:\n",
    "   - If c is a single character, the function uses the replace method to remove all occurrences of c from s."
   ]
  }
 ],
 "metadata": {
  "kernelspec": {
   "display_name": "Python 3",
   "language": "python",
   "name": "python3"
  },
  "language_info": {
   "codemirror_mode": {
    "name": "ipython",
    "version": 3
   },
   "file_extension": ".py",
   "mimetype": "text/x-python",
   "name": "python",
   "nbconvert_exporter": "python",
   "pygments_lexer": "ipython3",
   "version": "3.13.1"
  }
 },
 "nbformat": 4,
 "nbformat_minor": 2
}
