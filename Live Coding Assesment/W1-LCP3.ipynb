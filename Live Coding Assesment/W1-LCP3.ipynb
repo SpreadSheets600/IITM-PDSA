{
 "cells": [
  {
   "cell_type": "markdown",
   "metadata": {},
   "source": [
    "### Question 3\n",
    "Write a function shuffle(l1,l2) that takes two lists, l1 and l2 as input, and returns a list consisting of the first element in l1, then the first element in l2, then the second element in l1, then the second element in l2, and so on. If the two lists are not of equal length, the remaining elements of the longer list are appended at the end of the shuffled output."
   ]
  },
  {
   "cell_type": "code",
   "execution_count": null,
   "metadata": {},
   "outputs": [],
   "source": [
    "def shuffle(l1, l2):\n",
    "    shuffled_list = []\n",
    "    len_l1, len_l2 = len(l1), len(l2)\n",
    "    min_len = min(len_l1, len_l2)\n",
    "    \n",
    "    for i in range(min_len):\n",
    "        shuffled_list.append(l1[i])\n",
    "        shuffled_list.append(l2[i])\n",
    "    \n",
    "    if len_l1 > len_l2:\n",
    "        shuffled_list.extend(l1[min_len:])\n",
    "    else:\n",
    "        shuffled_list.extend(l2[min_len:])\n",
    "    \n",
    "    return shuffled_list\n",
    "\n",
    "L1 = eval(input())\n",
    "L2 = eval(input())\n",
    "print(shuffle(L1,L2))"
   ]
  },
  {
   "cell_type": "markdown",
   "metadata": {},
   "source": [
    "### Explanation\n",
    "The shuffle function takes two lists, l1 and l2, as input and returns a new list consisting of elements from both lists alternately. If the two input lists are not of equal length, the remaining elements of the longer list are appended at the end of the shuffled output.\n",
    "\n",
    "### How It Works :\n",
    "\n",
    "1. Initialize an empty list `shuffled_list` to store the result.\n",
    "\n",
    "2. Determine the lengths of l1 and l2.\n",
    "\n",
    "3. Find the minimum length of the two lists.\n",
    "\n",
    "4. Loop through the indices up to the minimum length, appending elements from both lists alternately to `shuffled_list`.\n",
    "\n",
    "5. If l1 is longer, append the remaining elements of l1 to `shuffled_list`.\n",
    "\n",
    "6. If l2 is longer, append the remaining elements of l2 to `shuffled_list`.\n",
    "\n",
    "7. Return the combined `shuffled_list`.\n",
    "\n"
   ]
  }
 ],
 "metadata": {
  "language_info": {
   "name": "python"
  }
 },
 "nbformat": 4,
 "nbformat_minor": 2
}
