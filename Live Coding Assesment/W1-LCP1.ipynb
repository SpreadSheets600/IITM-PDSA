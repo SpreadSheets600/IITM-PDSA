{
 "cells": [
  {
   "cell_type": "markdown",
   "metadata": {},
   "source": [
    "### Question 1\n",
    "A positive integer m is a prime product if it can be written as p x q, where p and q are both\n",
    "primes. Write a Python function prime_product(m) that takes an integer m as input and returns True if m is a prime product and False otherwise. (If m is not positive, function should return False.)"
   ]
  },
  {
   "cell_type": "code",
   "execution_count": 1,
   "metadata": {},
   "outputs": [
    {
     "name": "stdout",
     "output_type": "stream",
     "text": [
      "True\n"
     ]
    }
   ],
   "source": [
    "def is_prime(n):\n",
    "    if n <= 1:\n",
    "        return False\n",
    "    for i in range(2, int(n**0.5) + 1):\n",
    "        if n % i == 0:\n",
    "            return False\n",
    "    return True\n",
    "\n",
    "def prime_product(m):\n",
    "    if m <= 0:\n",
    "        return False\n",
    "    for i in range(2, int(m**0.5) + 1):\n",
    "        if m % i == 0:\n",
    "            if is_prime(i) and is_prime(m // i):\n",
    "                return True\n",
    "    return False\n",
    "\n",
    "n = int(input())\n",
    "print(prime_product(n))"
   ]
  },
  {
   "cell_type": "markdown",
   "metadata": {},
   "source": [
    "\n",
    "#### Explaination:\n",
    "The `is_prime` function checks if a given number n is a prime number.\n",
    "\n",
    "#### How It Works :\n",
    "1. **Check if n is less than or equal to 1**:\n",
    "   - If n is 1 or less, it is not a prime number, so the function returns `False`.\n",
    "\n",
    "2. **Iterate from 2 to the square root of n**:\n",
    "   - The loop runs from 2 to int(n**0.5) + 1. The reason for checking up to the square root of n is that if n is divisible by any number greater than its square root, it would have already been divisible by a corresponding smaller number.\n",
    "\n",
    "3. **Check for divisibility**:\n",
    "   - If n is divisible by any number i in the range, it is not a prime number, and the function returns `False`.\n",
    "\n",
    "4. **Return `True` if no divisors are found**:\n",
    "   - If the loop completes without finding any divisors, n is a prime number, and the function returns `True`."
   ]
  },
  {
   "cell_type": "markdown",
   "metadata": {},
   "source": [
    "\n",
    "The `prime_product` function checks if a given number m can be expressed as a product of two prime numbers.\n",
    "\n",
    "#### How It Works :\n",
    "1. **Check if m is less than or equal to 0**:\n",
    "   - If m is 0 or less, it cannot be a product of two primes, so the function returns `False`.\n",
    "\n",
    "2. **Iterate from 2 to the square root of m**:\n",
    "   - The loop runs from 2 to int(m**0.5) + 1. Similar to the `is_prime` function, this range is sufficient to check for factors.\n",
    "\n",
    "3. **Check for factors of m**:\n",
    "   - If m is divisible by i, then i is a factor of m.\n",
    "\n",
    "4. **Check if both factors are prime**:\n",
    "   - If i is a factor, check if both i and m // i are prime using the `is_prime` function.\n",
    "   - If both are prime, the function returns `True`.\n",
    "\n",
    "5. **Return `False` if no prime factors are found**:\n",
    "   - If the loop completes without finding two prime factors, the function returns `False`."
   ]
  }
 ],
 "metadata": {
  "kernelspec": {
   "display_name": "Python 3",
   "language": "python",
   "name": "python3"
  },
  "language_info": {
   "codemirror_mode": {
    "name": "ipython",
    "version": 3
   },
   "file_extension": ".py",
   "mimetype": "text/x-python",
   "name": "python",
   "nbconvert_exporter": "python",
   "pygments_lexer": "ipython3",
   "version": "3.13.1"
  }
 },
 "nbformat": 4,
 "nbformat_minor": 2
}
