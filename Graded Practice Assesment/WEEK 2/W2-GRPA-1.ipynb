{
 "cells": [
  {
   "cell_type": "code",
   "execution_count": null,
   "metadata": {},
   "outputs": [],
   "source": [
    "def combinationSort(strList):\n",
    "    L1 = sorted(strList, key=lambda x: x[0])\n",
    "    \n",
    "    def get_key(s):\n",
    "        return (s[0], -int(s[1:]))\n",
    "    \n",
    "    L2 = sorted(strList, key=get_key)\n",
    "    \n",
    "    return L1, L2\n"
   ]
  },
  {
   "cell_type": "markdown",
   "metadata": {},
   "source": [
    "### Function Explanation\n",
    "\n",
    "1. **Function Definition**:\n",
    "   - The function `combinationSort` takes a single argument `strList`, which is expected to be a list of strings.\n",
    "\n",
    "2. **First Sorting (L1)**:\n",
    "   - `L1` is created by sorting `strList` using the `sorted` function.\n",
    "   - The sorting key is defined as `lambda x: x[0]`, which means the list is sorted based on the first character of each string.\n",
    "\n",
    "3. **Key Function for Second Sorting**:\n",
    "   - A nested function `get_key` is defined to generate a sorting key for the second sorting operation.\n",
    "   - `get_key` takes a string `s` and returns a tuple `(s[0], -int(s[1:]))`.\n",
    "     - `s[0]` is the first character of the string.\n",
    "     - `-int(s[1:])` converts the substring starting from the second character to an integer and negates it.\n",
    "\n",
    "4. **Second Sorting (L2)**:\n",
    "   - `L2` is created by sorting `strList` using the `sorted` function with `get_key` as the key function.\n",
    "   - This sorts the list primarily by the first character and secondarily by the negated integer value of the rest of the string.\n",
    "\n",
    "5. **Return Statement**:\n",
    "   - The function returns a tuple containing the two sorted lists, `L1` and `L2`.\n"
   ]
  }
 ],
 "metadata": {
  "language_info": {
   "name": "python"
  }
 },
 "nbformat": 4,
 "nbformat_minor": 2
}
