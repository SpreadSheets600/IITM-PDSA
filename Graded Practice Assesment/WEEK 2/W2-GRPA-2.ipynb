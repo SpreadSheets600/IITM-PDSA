{
 "cells": [
  {
   "cell_type": "code",
   "execution_count": null,
   "metadata": {},
   "outputs": [],
   "source": [
    "def findLargest(L):\n",
    "    left = 0\n",
    "    right = len(L) - 1\n",
    "    \n",
    "    if left == right:\n",
    "        return L[0]\n",
    "        \n",
    "    if L[left] < L[right]:\n",
    "        return L[right]\n",
    "    \n",
    "    while left <= right:\n",
    "        if left == right - 1:\n",
    "            return max(L[left], L[right])\n",
    "            \n",
    "        mid = (left + right) // 2\n",
    "        \n",
    "        if L[mid] > L[mid+1] and L[mid] > L[mid-1]:\n",
    "            return L[mid]\n",
    "            \n",
    "        if L[mid] > L[right]:\n",
    "            left = mid\n",
    "        else:\n",
    "            right = mid\n",
    "\n",
    "    return L[left]\n"
   ]
  },
  {
   "cell_type": "markdown",
   "metadata": {},
   "source": [
    "### Function Explanation\n",
    "\n",
    "1. **Function Definition**:\n",
    "   - The function `findLargest` takes a single argument `L`, which is expected to be a list of integers.\n",
    "\n",
    "2. **Initialize Pointers**:\n",
    "   - `left` is initialized to 0, representing the start of the list.\n",
    "   - `right` is initialized to `len(L) - 1`, representing the end of the list.\n",
    "\n",
    "3. **Single Element List**:\n",
    "   - If the list has only one element (`left == right`), the function returns that single element `L[0]`.\n",
    "\n",
    "4. **Check if List is Not Rotated**:\n",
    "   - If the first element `L[left]` is less than the last element `L[right]`, the list is not rotated, and the largest element is `L[right]`.\n",
    "\n",
    "5. **Binary Search Loop**:\n",
    "   - A `while` loop runs as long as `left` is less than or equal to `right`.\n",
    "\n",
    "6. **Adjacent Elements Check**:\n",
    "   - If `left` and `right` are adjacent (`left == right - 1`), the function returns the maximum of `L[left]` and `L[right]`.\n",
    "\n",
    "7. **Calculate Midpoint**:\n",
    "   - `mid` is calculated as the integer division of `(left + right) // 2`.\n",
    "\n",
    "8. **Check Midpoint Neighbors**:\n",
    "   - If the `mid` element is greater than both its neighbors (`L[mid] > L[mid+1]` and `L[mid] > L[mid-1]`), the function returns `L[mid]`.\n",
    "\n",
    "9. **Determine Search Half**:\n",
    "   - If the right half of the list is sorted and `L[mid]` is greater than `L[right]`, the largest element must be in the left half including `mid`, so `left` is updated to `mid`.\n",
    "   - Otherwise, the largest element must be in the right half, so `right` is updated to `mid`.\n",
    "\n",
    "10. **Return Largest Element**:\n",
    "    - If the loop exits, the function returns `L[left]`.\n",
    "\n"
   ]
  }
 ],
 "metadata": {
  "language_info": {
   "name": "python"
  }
 },
 "nbformat": 4,
 "nbformat_minor": 2
}
