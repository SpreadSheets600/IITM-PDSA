{
 "cells": [
  {
   "cell_type": "code",
   "execution_count": null,
   "metadata": {},
   "outputs": [],
   "source": [
    "def is_prime(num):\n",
    "    if num < 2:\n",
    "        return False\n",
    "    for i in range(2, int(num**0.5) + 1):\n",
    "        if num % i == 0:\n",
    "            return False\n",
    "    return True\n",
    "\n",
    "def Goldbach(n):\n",
    "    primes = [i for i in range(2, n + 1) if is_prime(i)] \n",
    "    pairs = []\n",
    "    \n",
    "    for i in range(len(primes)):\n",
    "        for j in range(i, len(primes)):\n",
    "            if primes[i] + primes[j] == n:\n",
    "                pairs.append((primes[i], primes[j]))\n",
    "    \n",
    "    return pairs\n",
    "\n",
    "\n",
    "n=int(input())\n",
    "print(sorted(Goldbach(n)))"
   ]
  }
 ],
 "metadata": {
  "language_info": {
   "name": "python"
  }
 },
 "nbformat": 4,
 "nbformat_minor": 2
}
