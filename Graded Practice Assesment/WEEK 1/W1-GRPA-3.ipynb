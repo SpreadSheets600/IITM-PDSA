{
 "cells": [
  {
   "cell_type": "code",
   "execution_count": null,
   "metadata": {},
   "outputs": [],
   "source": [
    "def odd_one(L):\n",
    "    types = [type(x) for x in L]\n",
    "    \n",
    "    type_count = {}\n",
    "    for t in types:\n",
    "        type_count[t] = type_count.get(t, 0) + 1\n",
    "    \n",
    "    for t in type_count:\n",
    "        if type_count[t] == 1:\n",
    "            type_name = t.__name__\n",
    "            return type_name\n",
    "\n",
    "print(odd_one(eval(input().strip())))"
   ]
  }
 ],
 "metadata": {
  "language_info": {
   "name": "python"
  }
 },
 "nbformat": 4,
 "nbformat_minor": 2
}
