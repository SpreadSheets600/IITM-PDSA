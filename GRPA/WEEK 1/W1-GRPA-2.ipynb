{
 "cells": [
  {
   "cell_type": "code",
   "execution_count": null,
   "metadata": {},
   "outputs": [],
   "source": [
    "def is_prime(num):\n",
    "    if num < 2:\n",
    "        return False\n",
    "    for i in range(2, int(num**0.5) + 1):\n",
    "        if num % i == 0:\n",
    "            return False\n",
    "    return True\n",
    "\n",
    "\n",
    "def Goldbach(n):\n",
    "    primes = [i for i in range(2, n + 1) if is_prime(i)]\n",
    "    pairs = []\n",
    "\n",
    "    for i in range(len(primes)):\n",
    "        for j in range(i, len(primes)):\n",
    "            if primes[i] + primes[j] == n:\n",
    "                pairs.append((primes[i], primes[j]))\n",
    "\n",
    "    return pairs\n",
    "\n",
    "\n",
    "n = int(input())\n",
    "print(sorted(Goldbach(n)))"
   ]
  },
  {
   "cell_type": "markdown",
   "metadata": {},
   "source": [
    "### Function Explanation\n",
    "\n",
    "### `is_prime` Function\n",
    "\n",
    "1. **Function Definition**:\n",
    "   - The function `is_prime` takes a single argument `num`, which is expected to be an integer.\n",
    "\n",
    "2. **Check if Number is Less Than 2**:\n",
    "   - If `num` is less than 2, the function returns `False` because numbers less than 2 are not prime.\n",
    "\n",
    "3. **Check for Divisors**:\n",
    "   - A `for` loop iterates from 2 to the square root of `num` (inclusive).\n",
    "   - If `num` is divisible by any number in this range, the function returns `False`.\n",
    "\n",
    "4. **Return True**:\n",
    "   - If no divisors are found, the function returns `True`, indicating that `num` is a prime number.\n",
    "\n",
    "### `Goldbach` Function\n",
    "\n",
    "1. **Function Definition**:\n",
    "   - The function `Goldbach` takes a single argument `n`, which is expected to be an even integer greater than 2.\n",
    "\n",
    "2. **Generate List of Primes**:\n",
    "   - A list comprehension generates a list of prime numbers up to `n` using the `is_prime` function.\n",
    "\n",
    "3. **Initialize Pairs List**:\n",
    "   - An empty list `pairs` is initialized to store pairs of prime numbers that sum to `n`.\n",
    "\n",
    "4. **Find Prime Pairs**:\n",
    "   - A nested `for` loop iterates over the list of primes.\n",
    "   - For each pair of primes `(primes[i], primes[j])`, if their sum equals `n`, the pair is added to the `pairs` list.\n",
    "\n",
    "5. **Return Pairs**:\n",
    "   - The function returns the list of pairs of prime numbers that sum to `n`.\n"
   ]
  }
 ],
 "metadata": {
  "language_info": {
   "name": "python"
  }
 },
 "nbformat": 4,
 "nbformat_minor": 2
}
