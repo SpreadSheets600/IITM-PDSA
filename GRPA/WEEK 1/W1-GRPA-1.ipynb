{
 "cells": [
  {
   "cell_type": "code",
   "execution_count": null,
   "metadata": {},
   "outputs": [],
   "source": [
    "def find_Min_Difference(L, P):\n",
    "    L.sort()\n",
    "\n",
    "    min_diff = float(\"inf\")\n",
    "\n",
    "    for i in range(len(L) - P + 1):\n",
    "        diff = L[i + P - 1] - L[i]\n",
    "        min_diff = min(min_diff, diff)\n",
    "\n",
    "    return min_diff\n",
    "\n",
    "\n",
    "L = eval(input().strip())\n",
    "P = int(input())\n",
    "print(find_Min_Difference(L, P))"
   ]
  },
  {
   "cell_type": "markdown",
   "metadata": {},
   "source": [
    "## Function Explanation\n",
    "\n",
    "1. **Sorting the List**: The first step is to sort the list $ L $. This allows us to easily access subsets of $ P $ elements that are close in value, which is essential for minimizing the difference between the maximum and minimum values.\n",
    "\n",
    "2. **Iterating Through Subsets**: After sorting, we iterate through the list using a sliding window approach. For each possible starting index $ i $, we consider the subset of $ P $ elements starting from that index.\n",
    "\n",
    "3. **Calculating Differences**: For each subset, we calculate the difference between the maximum and minimum values, which can be directly obtained from the sorted list as $ L[i + P - 1] - L[i] $.\n",
    "\n",
    "4. **Tracking Minimum Difference**: We maintain a variable to track the minimum difference found during our iterations.\n",
    "\n",
    "5. **Returning Result**: Finally, we return the smallest difference found.\n"
   ]
  }
 ],
 "metadata": {
  "language_info": {
   "name": "python"
  }
 },
 "nbformat": 4,
 "nbformat_minor": 2
}
