{
 "cells": [
  {
   "cell_type": "code",
   "execution_count": null,
   "metadata": {},
   "outputs": [],
   "source": [
    "def odd_one(L):\n",
    "    types = [type(x) for x in L]\n",
    "\n",
    "    type_count = {}\n",
    "    for t in types:\n",
    "        type_count[t] = type_count.get(t, 0) + 1\n",
    "\n",
    "    for t in type_count:\n",
    "        if type_count[t] == 1:\n",
    "            type_name = t.__name__\n",
    "            return type_name\n",
    "\n",
    "\n",
    "print(odd_one(eval(input().strip())))"
   ]
  },
  {
   "cell_type": "markdown",
   "metadata": {},
   "source": [
    "### Function Explanation\n",
    "\n",
    "### `odd_one` Function\n",
    "\n",
    "1. **Function Definition**:\n",
    "   - The function `odd_one` takes a single argument `L`, which is expected to be a list containing elements of various types.\n",
    "\n",
    "2. **Determine Types of Elements**:\n",
    "   - A list comprehension creates a list called `types` that contains the type of each element in the list `L`.\n",
    "   - For example, if `L` is `[1, 'a', 3.0]`, `types` will be `[<class 'int'>, <class 'str'>, <class 'float'>]`.\n",
    "\n",
    "3. **Count Occurrences of Each Type**:\n",
    "   - An empty dictionary `type_count` is initialized to store the count of each type.\n",
    "   - A `for` loop iterates over each type in the `types` list.\n",
    "   - For each type `t`, the count of that type in the `type_count` dictionary is incremented by 1. If the type `t` is not already in the dictionary, it is added with a count of 1.\n",
    "\n",
    "4. **Find the Type that Appears Once**:\n",
    "   - A `for` loop iterates over each type in the `type_count` dictionary.\n",
    "   - If the count of a type `t` is 1, meaning it appears only once in the list `L`, the function retrieves the name of the type using `t.__name__` and returns it.\n"
   ]
  }
 ],
 "metadata": {
  "language_info": {
   "name": "python"
  }
 },
 "nbformat": 4,
 "nbformat_minor": 2
}
