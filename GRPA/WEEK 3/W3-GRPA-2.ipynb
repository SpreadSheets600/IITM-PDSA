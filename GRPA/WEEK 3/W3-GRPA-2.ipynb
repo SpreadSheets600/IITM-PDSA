{
 "cells": [
  {
   "cell_type": "code",
   "execution_count": null,
   "metadata": {},
   "outputs": [],
   "source": [
    "def EvaluateExpression(exp):\n",
    "    stack = []\n",
    "    tokens = exp.split()\n",
    "\n",
    "    for token in tokens:\n",
    "        if token in [\"+\", \"-\", \"*\", \"/\", \"**\"]:\n",
    "            b = stack.pop()\n",
    "            a = stack.pop()\n",
    "            if token == \"+\":\n",
    "                stack.append(a + b)\n",
    "            elif token == \"-\":\n",
    "                stack.append(a - b)\n",
    "            elif token == \"*\":\n",
    "                stack.append(a * b)\n",
    "            elif token == \"/\":\n",
    "                stack.append(a / b)\n",
    "            elif token == \"**\":\n",
    "                stack.append(a**b)\n",
    "        else:\n",
    "            stack.append(float(token))\n",
    "\n",
    "    return stack.pop()\n",
    "\n",
    "\n",
    "print(float(EvaluateExpression(input())))"
   ]
  }
 ],
 "metadata": {
  "language_info": {
   "name": "python"
  }
 },
 "nbformat": 4,
 "nbformat_minor": 2
}
