{
 "cells": [
  {
   "cell_type": "code",
   "execution_count": null,
   "metadata": {},
   "outputs": [],
   "source": [
    "def reverse(root):\n",
    "    prev = None\n",
    "    current = root\n",
    "    while current:\n",
    "        temp = current.next\n",
    "        current.next = prev\n",
    "        prev = current\n",
    "        current = temp\n",
    "    return prev"
   ]
  }
 ],
 "metadata": {
  "language_info": {
   "name": "python"
  }
 },
 "nbformat": 4,
 "nbformat_minor": 2
}
