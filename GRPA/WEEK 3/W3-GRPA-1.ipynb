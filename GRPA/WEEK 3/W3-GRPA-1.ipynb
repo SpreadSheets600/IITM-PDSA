{
 "cells": [
  {
   "cell_type": "code",
   "execution_count": null,
   "metadata": {},
   "outputs": [],
   "source": [
    "def DishPrepareOrder(order_list):\n",
    "    freq = {}\n",
    "    for dish in order_list:\n",
    "        freq[dish] = freq.get(dish, 0) + 1\n",
    "\n",
    "    sorted_dishes = sorted(freq.keys(), key=lambda x: (-freq[x], x))\n",
    "\n",
    "    return sorted_dishes\n",
    "\n",
    "nums = eval(input())\n",
    "print(DishPrepareOrder(nums))"
   ]
  }
 ],
 "metadata": {
  "language_info": {
   "name": "python"
  }
 },
 "nbformat": 4,
 "nbformat_minor": 2
}
