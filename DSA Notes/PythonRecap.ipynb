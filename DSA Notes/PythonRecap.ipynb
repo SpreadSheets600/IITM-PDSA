{
 "cells": [
  {
   "cell_type": "markdown",
   "metadata": {},
   "source": [
    "### Python Recap 1"
   ]
  },
  {
   "cell_type": "markdown",
   "metadata": {},
   "source": [
    "Computing GCD ( Greatest Common Factor ) Of Two Numbers The Fastest And The Shortest Way!\n",
    "- The largest number divides both the number without leaving a remainder.\n",
    "- GCD of two number is always less than or equal to the smallest number.\n",
    "\n",
    "The above two points are the key to the solution."
   ]
  },
  {
   "cell_type": "code",
   "execution_count": 1,
   "metadata": {},
   "outputs": [],
   "source": [
    "def gcd(n, m):\n",
    "    for i in range(\n",
    "        1, min(n, m) + 1\n",
    "    ):  # Loop Through All The Numbers From 1 To The Smallest Number\n",
    "        if n % i == 0 and m % i == 0:  # If The Number Is A Factor Of Both n And m\n",
    "            return i  # Return The Number"
   ]
  }
 ],
 "metadata": {
  "kernelspec": {
   "display_name": "Python 3",
   "language": "python",
   "name": "python3"
  },
  "language_info": {
   "codemirror_mode": {
    "name": "ipython",
    "version": 3
   },
   "file_extension": ".py",
   "mimetype": "text/x-python",
   "name": "python",
   "nbconvert_exporter": "python",
   "pygments_lexer": "ipython3",
   "version": "3.13.1"
  }
 },
 "nbformat": 4,
 "nbformat_minor": 2
}
