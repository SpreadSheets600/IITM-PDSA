{
 "cells": [
  {
   "cell_type": "code",
   "execution_count": null,
   "metadata": {},
   "outputs": [],
   "source": [
    "def insertion_sort(arr):\n",
    "    n = len(arr)\n",
    "\n",
    "    if n < 1:\n",
    "        return arr\n",
    "\n",
    "    for i in range(n):\n",
    "        j = i\n",
    "\n",
    "        while j > 0 and arr[j] < arr[j - 1]:\n",
    "            (arr[j], arr[j - 1]) = (arr[j - 1], arr[j])\n",
    "\n",
    "            j = j - 1\n",
    "\n",
    "    return arr, swaps\n",
    "\n",
    "\n",
    "print(insertion_sort([1, 1, 1, 1]))\n"
   ]
  }
 ],
 "metadata": {
  "language_info": {
   "name": "python"
  }
 },
 "nbformat": 4,
 "nbformat_minor": 2
}
