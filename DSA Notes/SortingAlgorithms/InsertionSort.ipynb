{
 "cells": [
  {
   "cell_type": "code",
   "execution_count": 2,
   "metadata": {},
   "outputs": [
    {
     "name": "stdout",
     "output_type": "stream",
     "text": [
      "[1, 2, 3, 5]\n"
     ]
    }
   ],
   "source": [
    "def insertion_sort(arr):\n",
    "    n = len(arr)\n",
    "\n",
    "    if n < 1:\n",
    "        return arr\n",
    "\n",
    "    for i in range(n):\n",
    "        j = i\n",
    "\n",
    "        while j > 0 and arr[j] < arr[j - 1]:\n",
    "            (arr[j], arr[j - 1]) = (arr[j - 1], arr[j])\n",
    "\n",
    "            j = j - 1\n",
    "\n",
    "    return arr\n",
    "\n",
    "\n",
    "print(insertion_sort([1, 2, 5, 3]))\n"
   ]
  }
 ],
 "metadata": {
  "kernelspec": {
   "display_name": "Python 3",
   "language": "python",
   "name": "python3"
  },
  "language_info": {
   "codemirror_mode": {
    "name": "ipython",
    "version": 3
   },
   "file_extension": ".py",
   "mimetype": "text/x-python",
   "name": "python",
   "nbconvert_exporter": "python",
   "pygments_lexer": "ipython3",
   "version": "3.13.1"
  }
 },
 "nbformat": 4,
 "nbformat_minor": 2
}
