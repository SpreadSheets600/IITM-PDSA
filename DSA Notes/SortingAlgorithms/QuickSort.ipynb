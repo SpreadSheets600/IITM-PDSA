{
 "cells": [
  {
   "cell_type": "code",
   "execution_count": null,
   "metadata": {},
   "outputs": [
    {
     "name": "stdout",
     "output_type": "stream",
     "text": [
      "[1, 2, 2, 3, 4, 5, 6, 7, 8, 9]\n"
     ]
    }
   ],
   "source": [
    "def QuickSort(arr):\n",
    "    if len(arr) <= 1:\n",
    "        return arr\n",
    "\n",
    "    else:\n",
    "        pivot = arr[0]\n",
    "        left = [x for x in arr[1:] if x < pivot]\n",
    "        right = [x for x in arr[1:] if x >= pivot]\n",
    "\n",
    "    return QuickSort(left) + [pivot] + QuickSort(right)\n",
    "\n",
    "\n",
    "print(QuickSort([2, 5, 8, 1, 7, 9, 3, 2, 6, 4]))"
   ]
  },
  {
   "cell_type": "markdown",
   "metadata": {},
   "source": [
    "The code implements the QuickSort algorithm, a divide-and-conquer sorting algorithm. \n",
    "\n",
    "The function `QuickSort` takes an array `arr` as input. If the array has one or zero elements, it's already sorted, so it returns the array. Otherwise, it selects the first element as the pivot. \n",
    "\n",
    "It then partitions the remaining elements into two sub-arrays: `left` containing elements less than the pivot, and `right` containing elements greater than or equal to the pivot. \n",
    "\n",
    "Finally, it recursively sorts the `left` and `right` sub-arrays and combines them with the pivot in the middle to produce the sorted array. The code then calls the `QuickSort` function with an example array and prints the sorted result."
   ]
  }
 ],
 "metadata": {
  "kernelspec": {
   "display_name": "Python 3",
   "language": "python",
   "name": "python3"
  },
  "language_info": {
   "codemirror_mode": {
    "name": "ipython",
    "version": 3
   },
   "file_extension": ".py",
   "mimetype": "text/x-python",
   "name": "python",
   "nbconvert_exporter": "python",
   "pygments_lexer": "ipython3",
   "version": "3.13.1"
  }
 },
 "nbformat": 4,
 "nbformat_minor": 2
}
