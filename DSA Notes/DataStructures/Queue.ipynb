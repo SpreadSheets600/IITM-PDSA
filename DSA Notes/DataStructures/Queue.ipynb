{
 "cells": [
  {
   "cell_type": "markdown",
   "metadata": {},
   "source": [
    "### Queue\n",
    "\n",
    "The Queue is a non-primitive linear data structure. It is an ordered collection of elements in which new elements are added at one end called the Back end, and the existing element is deleted from the other end called the Front end.\n",
    "\n",
    "A Queue is logically called a First In First Out (FIFO) type of data structure. The element that is added first is the one that is removed first.\n"
   ]
  },
  {
   "cell_type": "markdown",
   "metadata": {},
   "source": [
    "### Sasic Queue Operations\n",
    "\n",
    "1. **Enqueue:** Adds an item to the queue. If the queue is full, then it is said to be an Overflow condition.\n",
    "2. **Dequeue:** Removes an item from the queue. The items are popped in the same order in which they are pushed. If the queue is empty, then it is said to be an Underflow condition.\n",
    "3. **Front:** Get the front item from the queue.\n",
    "4. **Rear:** Get the last item from the queue.\n",
    "5. **isEmpty:** Check if the queue is empty.\n",
    "6. **isFull:** Check if the queue is full.\n"
   ]
  },
  {
   "cell_type": "code",
   "execution_count": null,
   "metadata": {},
   "outputs": [],
   "source": [
    "class Queue:\n",
    "    def __init__(self):\n",
    "        self.queue = []\n",
    "\n",
    "    def __str__(self):\n",
    "        return str(self.queue)\n",
    "\n",
    "    def enqueue(self, item):\n",
    "        self.queue.append(item)\n",
    "\n",
    "    def dequeue(self):\n",
    "        if len(self.queue) > 0:\n",
    "            return self.queue.pop(0)\n",
    "        else:\n",
    "            return None\n",
    "\n",
    "    def size(self):\n",
    "        return len(self.queue)\n",
    "\n",
    "    def is_empty(self):\n",
    "        return len(self.queue) == 0\n",
    "\n",
    "    def front(self):\n",
    "        if len(self.queue) > 0:\n",
    "            return self.queue[0]\n",
    "        else:\n",
    "            return None\n",
    "\n",
    "    def rear(self):\n",
    "        if len(self.queue) > 0:\n",
    "            return self.queue[-1]\n",
    "        else:\n",
    "            return None\n",
    "\n",
    "\n",
    "queue = Queue()\n",
    "queue.enqueue(1)\n",
    "queue.enqueue(2)\n",
    "queue.enqueue(3)\n",
    "\n",
    "print(\"Queue:\", queue)\n",
    "print(\"Size:\", queue.size())\n",
    "\n",
    "print(\"Front:\", queue.front())\n",
    "print(\"Rear:\", queue.rear())\n"
   ]
  }
 ],
 "metadata": {
  "language_info": {
   "name": "python"
  }
 },
 "nbformat": 4,
 "nbformat_minor": 2
}
