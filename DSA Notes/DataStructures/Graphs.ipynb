{
 "cells": [
  {
   "cell_type": "markdown",
   "metadata": {},
   "source": [
    "### Graphs\n",
    "\n",
    "Graphs are a way to represent relationships between objects. A graph is a collection of nodes and edges. Nodes are sometimes called vertices. Edges are lines that connect nodes. If the edges have a direction, the graph is called a directed graph. If the edges do not have a direction, the graph is called an undirected graph."
   ]
  }
 ],
 "metadata": {
  "language_info": {
   "name": "python"
  }
 },
 "nbformat": 4,
 "nbformat_minor": 2
}
