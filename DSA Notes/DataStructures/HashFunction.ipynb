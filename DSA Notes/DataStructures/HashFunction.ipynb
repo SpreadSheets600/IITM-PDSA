{
 "cells": [
  {
   "cell_type": "markdown",
   "metadata": {},
   "source": [
    "### Hash Function\n",
    "\n",
    "A hash function is any function that can be used to map data of arbitrary size to fixed-size values.\n",
    "The values returned by a hash function are called hash values, hash codes, digests, or simply hashes.\n",
    "\n",
    "Collision is a situation that occurs when two distinct pieces of data have the same hash value. In short, a collision occurs when two different inputs produce the same output.\n",
    "Hash function is used to map the two different inputs to the same output to avoid collision.\n",
    "\n",
    "A good hash function should minimize collisions and be fast to compute.\n"
   ]
  },
  {
   "cell_type": "markdown",
   "metadata": {},
   "source": [
    "### Hash Table\n",
    "\n",
    "Hash table is one of the most important data structures that uses a special function known as a hash function that maps a given value with a key to access the elements faster.\n",
    "\n",
    "A Hash table is a data structure that stores some information, and the information has basically two main components, i.e., key and value. The hash table can be implemented with the help of an associative array. The efficiency of mapping depends upon the efficiency of the hash function used for mapping.\n",
    "\n",
    "For example, suppose the key value is John and the value is the phone number, so when we pass the key value in the hash function shown as below:\n",
    "\n",
    "HasH(Key) = Index\n",
    "\n",
    "When we pass the key in the hash function, then it gives the index."
   ]
  },
  {
   "cell_type": "markdown",
   "metadata": {},
   "source": [
    "### Hashing\n",
    "\n",
    "Hashing is one of the searching techniques that uses a constant time. The time complexity in hashing is O(1). In most of the searching techniques, the searching depends upon the number of elements but hashing is the technique that takes a constant time.\n",
    "\n",
    "In Hashing technique, the hash table and hash function are used. Using the hash function, we can calculate the address at which the value can be stored.\n",
    "\n",
    "The main idea behind the hashing is to create the (Key/value) pairs. If the key is given, then the algorithm computes the index at which the value would be stored. It can be written as:\n",
    "\n",
    "Index = HasH(Key)"
   ]
  },
  {
   "cell_type": "markdown",
   "metadata": {},
   "source": [
    "There are three ways of calculating the hash function:\n",
    "\n",
    "- Division method\n",
    "- Folding method\n",
    "- Mid square method\n",
    "\n",
    "In the **division method**, the hash function can be defined as:\n",
    "\n",
    "H(Ki) = Ki  %  M;\n",
    "\n",
    "where M is the size of the hash table.\n",
    "\n",
    "> For example, if the key value is 6 and the size of the hash table is 10. When we apply the hash function to key 6 then the index would be:\n",
    "> H(6) = 6  %  10 = 6\n",
    "> The index is 6 at which the value is stored.\n",
    "\n",
    "In the **folding method**, the hash function can be defined as:\n",
    "\n",
    "H(Ki) = (K1 + K2 + K3 + K4)  %  M;\n",
    "\n",
    "where M is the size of the hash table.\n",
    "\n",
    "> For example, if the key value is 1234 and the size of the hash table is 10. When we apply the hash function to key 1234 then the index would be:\n",
    "> H(1234) = (1 + 2 + 3 + 4)  %  10 = 10  %  10 = 0\n",
    "> The index is 0 at which the value is stored.\n",
    "\n",
    "In the **mid square method**, the hash function can be defined as:\n",
    "\n",
    "H(Ki) = (Ki * Ki)  %  M;\n",
    "\n",
    "where M is the size of the hash table.\n",
    "\n",
    "> For example, if the key value is 6 and the size of the hash table is 10. When we apply the hash function to key 6 then the index would be:\n",
    "> H(6) = (6 * 6)  %  10 = 36  %  10 = 6\n",
    "> The index is 6 at which the value is stored."
   ]
  },
  {
   "cell_type": "markdown",
   "metadata": {},
   "source": [
    "### Collision\n",
    "\n",
    "When the two different values have the same value, then the problem occurs between the two values, known as a collision. In the above example, the value is stored at index 6. If the key value is 26, then the index would be:\n",
    "\n",
    "H(26) = 26  %  10 = 6\n",
    "\n",
    "Therefore, two values are stored at the same index, i.e., 6, and this leads to the collision problem. To resolve these collisions, we have some techniques known as collision techniques.\n",
    "\n",
    "The following are the collision techniques:\n",
    "\n",
    "- Open Hashing : It is also known as closed addressing.\n",
    "- Closed Hashing : It is also known as open addressing."
   ]
  },
  {
   "cell_type": "markdown",
   "metadata": {},
   "source": [
    "### Open Hashing\n",
    "\n",
    "Open hashing is a technique in which the hash table is an array of linked lists. In open hashing, the hash table is an array of linked lists. Each element of the array is a pointer to a linked list. The elements are stored in the linked list at the index calculated by the hash function.\n",
    "\n",
    "The open hashing technique is also known as separate chaining. In this technique, the hash table is an array of linked lists. Each element of the array is a pointer to a linked list. The elements are stored in the linked list at the index calculated by the hash function.\n",
    "\n",
    "The open hashing technique is used when the number of elements to be stored in the hash table is not known in advance. The open hashing technique is used when the number of elements to be stored in the hash table is not known in advance.\n",
    "\n",
    "![alt text](https://images.javatpoint.com/ds/images/hash-table2.png)"
   ]
  },
  {
   "cell_type": "markdown",
   "metadata": {},
   "source": [
    "For example we have a list of elements and a hash function H(K) -\n",
    "\n",
    "A = 3, 2, 9, 6, 11, 13, 7, 12 where m = 10, and H(K) = 2K + 3\n",
    "\n",
    "In this case, we cannot directly use H(K) = ki/m as H(K) = 2K + 3\n",
    "\n",
    "    The index of key value 3 is:\n",
    "\n",
    "index = H(3) = (2(3) + 3) % 10 = 9\n",
    "\n",
    "The value 3 would be stored at the index 9.\n",
    "\n",
    "    The index of key value 2 is:\n",
    "\n",
    "index = H(2) = (2(2) + 3) % 10 = 7\n",
    "\n",
    "The value 2 would be stored at the index 7.\n",
    "\n",
    "    The index of key value 9 is:\n",
    "\n",
    "index = H(9) = (2(9) + 3) % 10 = 1\n",
    "\n",
    "The value 9 would be stored at the index 1.\n",
    "\n",
    "    The index of key value 6 is:\n",
    "\n",
    "index = H(6) = (2(6) + 3) % 10 = 5\n",
    "\n",
    "The value 6 would be stored at the index 5.\n",
    "\n",
    "    The index of key value 11 is:\n",
    "\n",
    "index = H(11) = (2(11) + 3) % 10 = 5\n",
    "\n",
    "The value 11 would be stored at the index 5. Now, we have two values (6, 11) stored at the same index, i.e., 5. This leads to the collision problem, so we will use the chaining method to avoid the collision. We will create one more list and add the value 11 to this list. After the creation of the new list, the newly created list will be linked to the list having value 6.\n",
    "\n",
    "    The index of key value 13 is:\n",
    "\n",
    "index = H(13) = (2(13) + 3) % 10 = 9\n",
    "\n",
    "The value 13 would be stored at index 9. Now, we have two values (3, 13) stored at the same index, i.e., 9. This leads to the collision problem, so we will use the chaining method to avoid the collision. We will create one more list and add the value 13 to this list. After the creation of the new list, the newly created list will be linked to the list having value 3.\n",
    "\n",
    "    The index of key value 7 is:\n",
    "\n",
    "index = H(7) = (2(7) + 3) % 10 = 7\n",
    "\n",
    "The value 7 would be stored at index 7. Now, we have two values (2, 7) stored at the same index, i.e., 7. This leads to the collision problem, so we will use the chaining method to avoid the collision. We will create one more list and add the value 7 to this list. After the creation of the new list, the newly created list will be linked to the list having value 2.\n",
    "\n",
    "    The index of key value 12 is:\n",
    "\n",
    "index = H(12) = (2(12) + 3) % 10 = 7\n",
    "\n",
    "According to the above calculation, the value 12 must be stored at index 7, but the value 2 exists at index 7. So, we will create a new list and add 12 to the list. The newly created list will be linked to the list having a value 7."
   ]
  },
  {
   "cell_type": "markdown",
   "metadata": {},
   "source": [
    "### Closed Hashing\n",
    "\n",
    "In Closed hashing, three techniques are used to resolve the collision:\n",
    "\n",
    "- Linear probing\n",
    "- Quadratic probing\n",
    "- Double Hashing technique"
   ]
  },
  {
   "cell_type": "markdown",
   "metadata": {},
   "source": [
    "**Liner Probing**\n",
    "\n",
    "Linear probing is one of the forms of open addressing. As we know that each cell in the hash table contains a key-value pair, so when the collision occurs by mapping a new key to the cell already occupied by another key, then linear probing technique searches for the closest free locations and adds a new key to that empty cell. In this case, searching is performed sequentially, starting from the position where the collision occurs till the empty cell is not found."
   ]
  },
  {
   "cell_type": "markdown",
   "metadata": {},
   "source": [
    "**Quadratic Probing**\n",
    "\n",
    "In case of linear probing, searching is performed linearly. In contrast, quadratic probing is an open addressing technique that uses quadratic polynomial for searching until a empty slot is found.\n",
    "\n",
    "It can also be defined as that it allows the insertion ki at first free location from (u+i2)%m where i=0 to m-1. Here, u is the initial hash value, m is the size of the hash table, and i is the number of collisions occurred."
   ]
  },
  {
   "cell_type": "markdown",
   "metadata": {},
   "source": [
    "**Double Hashing**\n",
    "Double hashing is an open addressing technique which is used to avoid the collisions. When the collision occurs then this technique uses the secondary hash of the key. It uses one hash value as an index to move forward until the empty location is found.\n",
    "\n",
    "In double hashing, two hash functions are used. Suppose h1(k) is one of the hash functions used to calculate the locations whereas h2(k) is another hash function. It can be defined as \"insert ki at first free place from (u+v*i)%m where i=(0 to m-1)\". In this case, u is the location computed using the hash function and v is equal to (h2(k)%m).\n"
   ]
  }
 ],
 "metadata": {
  "language_info": {
   "name": "python"
  }
 },
 "nbformat": 4,
 "nbformat_minor": 2
}
