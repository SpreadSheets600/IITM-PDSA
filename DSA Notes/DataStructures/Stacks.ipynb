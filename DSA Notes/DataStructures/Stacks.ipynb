{
 "cells": [
  {
   "cell_type": "markdown",
   "metadata": {},
   "source": [
    "### Stacks\n",
    "\n",
    "A Stack is a non-primitive linear data structure. It is an ordered list in which the addition of a new data item and deletion of an already existing data item can be done from only one end, known as top of the stack.\n",
    "\n",
    "The last added element will be the first to be removed from the Stack. That is the reason why stack is also called Last In First Out (LIFO) type of data structure."
   ]
  },
  {
   "cell_type": "markdown",
   "metadata": {},
   "source": [
    "### Basic Stack Operations\n",
    "\n",
    "1. **Push** : The process of adding a new element to the top of the Stack is called the Push operation.\n",
    "2. **Pop** : The process of removing an element from the top of the Stack is called the Pop operation.\n",
    "3. **Peek** : The process of returning the top element of the Stack is called the Peek or Top operation.\n",
    "4. **Display** : The process of displaying all the elements of the Stack is called the Display operation."
   ]
  },
  {
   "cell_type": "code",
   "execution_count": null,
   "metadata": {},
   "outputs": [],
   "source": [
    "class Stack:\n",
    "    def __init__(self):\n",
    "        self.items = []\n",
    "\n",
    "    def is_empty(self):\n",
    "        return len(self.items) == 0\n",
    "\n",
    "    def push(self, item):\n",
    "        self.items.append(item)\n",
    "\n",
    "    def pop(self):\n",
    "        if not self.is_empty():\n",
    "            return self.items.pop()\n",
    "        else:\n",
    "            return None\n",
    "\n",
    "    def peek(self):\n",
    "        if not self.is_empty():\n",
    "            return self.items[-1]\n",
    "        else:\n",
    "            return None\n",
    "\n",
    "    def display(self):\n",
    "        if not self.is_empty():\n",
    "            return self.items\n",
    "        else:\n",
    "            return None\n",
    "\n",
    "    def size(self):\n",
    "        return len(self.items)\n",
    "\n",
    "\n",
    "stack = Stack()\n",
    "stack.push(1)\n",
    "stack.push(2)\n",
    "stack.push(3)\n",
    "\n",
    "print(\"Stack size:\", stack.size())\n",
    "print(\"Top element:\", stack.peek())\n",
    "\n",
    "print(\"Popped element :\", stack.pop())\n",
    "print(\"Stack size after pop :\", stack.size())"
   ]
  }
 ],
 "metadata": {
  "language_info": {
   "name": "python"
  }
 },
 "nbformat": 4,
 "nbformat_minor": 2
}
