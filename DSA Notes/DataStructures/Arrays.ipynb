{
 "cells": [
  {
   "cell_type": "markdown",
   "metadata": {},
   "source": [
    "Lists in python do no behave as linked lists ( or lists by convention ) rather they behave as arrays. So, we can't use the next pointer to traverse the list.\n",
    "\n",
    "Appending an element is easy in python list. We can use the append method to add an element to the end of the list. The time complexity of the append method is O(1).\n",
    "\n",
    "However inseting an element at the beginning of the list is not efficient. The time complexity of inserting an element at the beginning of the list is O(n).\n",
    "\n",
    "We can only use the index to access the elements of the list. So, we can't use the next pointer to traverse the list. We can only use the index to access the elements of the list.\n",
    "\n",
    "Apart from that we can also use numpy arrays method to create an array since it is faster than the list."
   ]
  },
  {
   "cell_type": "code",
   "execution_count": null,
   "metadata": {},
   "outputs": [],
   "source": [
    "import numpy as np\n",
    "\n",
    "# Creating An Array Of Basic Tpye\n",
    "zeromatrix = np.zeros((3,3)) # Creating A 3X3 Matrix Of Zeros\n",
    "\n",
    "# Creating An Array From Any Sequence\n",
    "zeroarray = np.array([0,0,0]) # Creating An Array Of Zeros\n",
    "\n",
    "# arange Function Is Equivalent To Range Function In Python\n",
    "rowarray = np.arange(5) # Creating An Array Of 5 Elements - [0,1,2,3,4] \n",
    "\n",
    "# With numpy We Can Do Operations As An Whole With The Array\n",
    "A = np.array([[1,2],[3,4]]) # Creating A 2X2 Matrix\n",
    "B = np.array([[5,6],[7,8]]) # Creating Another 2X2 Matrix\n",
    "C = 3*A + B # Multiplying The Whole Matrix By 3 And Adding B To It\n",
    "\n",
    "C = np.matmul(A,B) # Multiplying The Two Matrices"
   ]
  }
 ],
 "metadata": {
  "kernelspec": {
   "display_name": "Python 3",
   "language": "python",
   "name": "python3"
  },
  "language_info": {
   "codemirror_mode": {
    "name": "ipython",
    "version": 3
   },
   "file_extension": ".py",
   "mimetype": "text/x-python",
   "name": "python",
   "nbconvert_exporter": "python",
   "pygments_lexer": "ipython3",
   "version": "3.13.1"
  }
 },
 "nbformat": 4,
 "nbformat_minor": 2
}
